{
 "cells": [
  {
   "cell_type": "markdown",
   "metadata": {},
   "source": [
    "# Evaluation Criteria Notebook\n",
    "\n",
    "The second assignment is the evaluation criteria. To test suitable tools and ensure adequate methodology this notebook was created as a companion to the associated report."
   ]
  },
  {
   "cell_type": "code",
   "execution_count": null,
   "metadata": {},
   "outputs": [],
   "source": [
    "#---------------------------------- IMPORTANT PACKAGES --------------------------------------------#\n",
    "import numpy as np\n",
    "import pandas as pd\n",
    "from pandas import DataFrame as df\n",
    "import seaborn as sns\n",
    "import os\n",
    "from PIL import Image\n",
    "import matplotlib.pyplot as plt\n",
    "from sklearn import model_selection\n",
    "from sklearn.linear_model import LogisticRegression\n",
    "from sklearn.metrics import confusion_matrix,classification_report,accuracy_score,roc_auc_score, plot_roc_curve, precision_recall_curve\n",
    "from sklearn.preprocessing import OneHotEncoder, StandardScaler, RobustScaler, MinMaxScaler\n",
    "\n",
    "from sklearn.model_selection import StratifiedKFold\n",
    "from sklearn.pipeline import make_pipeline\n",
    "\n",
    "from sklearn.model_selection import train_test_split\n",
    "from sklearn.model_selection import cross_val_score\n",
    "from sklearn.model_selection import GridSearchCV\n",
    "from sklearn.model_selection import RepeatedStratifiedKFold\n",
    "\n",
    "# Models\n",
    "from sklearn.linear_model import LogisticRegression\n",
    "from sklearn.neighbors import KNeighborsClassifier\n",
    "from sklearn.svm import SVC\n",
    "from sklearn.tree import DecisionTreeClassifier\n",
    "from sklearn.ensemble import RandomForestClassifier,AdaBoostClassifier,GradientBoostingClassifier,ExtraTreesClassifier,RandomForestRegressor\n",
    "\n"
   ]
  },
  {
   "cell_type": "code",
   "execution_count": null,
   "metadata": {},
   "outputs": [],
   "source": [
    "#----------------------------------- DATA LOADING -------------------------------------------#\n",
    "data = pd.read_csv('heart.csv')"
   ]
  },
  {
   "cell_type": "code",
   "execution_count": null,
   "metadata": {},
   "outputs": [],
   "source": [
    "data.head()\n",
    "data.shape\n",
    "data.info()\n",
    "#Statistics\n",
    "data.describe().T\n"
   ]
  },
  {
   "cell_type": "code",
   "execution_count": null,
   "metadata": {},
   "outputs": [],
   "source": [
    "#----------------------------------- DATA PREPROCESSING -------------------------------------------#\n",
    "# Outliers\n",
    "data[data['RestingBP']!=0]\n",
    "data[data['OldPeak']>0]\n",
    "\n",
    "# Scaling\n",
    "robust_scale = RobustScaler()\n",
    "standard_scale = StandardScaler()\n",
    "# Encoding\n",
    "ohe= OneHotEncoder()\n",
    "\n",
    "# Categorical Data Encoding\n",
    "data['Sex'] = ohe.fit_transform(data['Sex'])\n",
    "data['ChestPainType'] = ohe.fit_transform(data['ChestPainType'])\n",
    "data['RestingECG'] = ohe.fit_transform(data['RestingECG'])\n",
    "data['ExerciseAngina'] = ohe.fit_transform(data['ExerciseAngina'])\n",
    "data['ST_Slope'] = ohe.fit_transform(data['ST_Slope'])\n",
    "\n",
    "data1 = pd.get_dummies(data, columns=['Sex','ChestPainType','RestingECG', 'ExerciseAngina', 'ST_Slope'], drop_first=True)\n",
    "\n",
    "# Scaling Numerical Data\n",
    "data['Oldpeak'] = robust_scale.fit_transform(data[['Oldpeak']])\n",
    "data['Age'] = robust_scale.fit_transform(data[['Age']])\n",
    "data['RestingBP'] = robust_scale.fit_transform(data[['RestingBP']])\n",
    "data['Cholesterol'] = robust_scale.fit_transform(data[['Cholesterol']])\n",
    "data['MaxHR'] = robust_scale.fit_transform(data[['MaxHR']])\n"
   ]
  },
  {
   "cell_type": "code",
   "execution_count": null,
   "metadata": {},
   "outputs": [],
   "source": [
    "#----------------------------------- SPLIT DATA -------------------------------------------#\n",
    "target= data['HeartDisease']\n",
    "features= data.drop('HeartDisease', axis=1)\n",
    "x_dev, x_test, y_dev, y_test = train_test_split(features, target, test_size = 0.20, random_state = 2)"
   ]
  },
  {
   "cell_type": "code",
   "execution_count": null,
   "metadata": {},
   "outputs": [],
   "source": [
    "# Metrics Dunction\n",
    "def metrics(y_test, y_pred, classifier):\n",
    "    # Confusion Matrix\n",
    "    cm = confusion_matrix(y_test, y_pred)\n",
    "    names = ['True Neg','False Pos','False Neg','True Pos']\n",
    "    counts = [value for value in cm.flatten()]\n",
    "    percentages = ['{0:.2%}'.format(value) for value in cm.flatten()/np.sum(cm)]\n",
    "    labels = [f'{v1}\\n{v2}\\n{v3}' for v1, v2, v3 in zip(names,counts,percentages)]\n",
    "    labels = np.asarray(labels).reshape(2,2)\n",
    "    sns.heatmap(cm,annot = labels,fmt ='')\n",
    "    \n",
    "    # Precision, Recall, F1 score\n",
    "    print(classification_report(y_test,y_pred))\n",
    "    print(roc_auc_score(y_test,y_pred))\n",
    "\n",
    "    # ROC\n",
    "    plot_roc_curve(classifier, x_test,y_test)\n",
    "    plt.title('ROC_AUC_Plot')\n",
    "    plt.show()\n",
    "    "
   ]
  },
  {
   "cell_type": "code",
   "execution_count": null,
   "metadata": {},
   "outputs": [],
   "source": [
    "# Model\n",
    "def model(classifier, x_dev, x_test, y_dev, y_test ):\n",
    "    kf=model_selection.StratifiedKFold(n_splits=9)\n",
    "    for fold , (trn_,val_) in enumerate(kf.split(X=x_dev,y=y_dev)):\n",
    "        \n",
    "        X_train=x_dev.loc[trn_,x_dev]\n",
    "        y_train=y_dev.loc[trn_,y_dev]\n",
    "        \n",
    "        X_valid=x_dev.loc[val_,x_dev]\n",
    "        y_valid=y_dev.loc[val_,y_dev]\n",
    "        \n",
    "        classifier.fit(X_train,y_train)\n",
    "        y_pred=classifier.predict(X_valid)\n",
    "        print(f\"The fold is : {fold} : \")\n",
    "        print(classification_report(y_valid,y_pred))\n",
    "        acc=roc_auc_score(y_valid,y_pred)\n",
    "        print(f\"The accuracy for Fold {fold+1} : {acc}\")\n",
    "        pass\n",
    "\n",
    "    y_pred = classifier.predict(x_test)\n",
    "    metrics(y_test, y_pred, classifier)\n"
   ]
  },
  {
   "cell_type": "code",
   "execution_count": null,
   "metadata": {},
   "outputs": [],
   "source": [
    "#----------------------------------- SUPPORT VECTOR MATRIX MODEL -------------------------------------------#\n",
    "model(SVC(random_state=0, gamma = 10, C=10), x_dev, x_test, y_dev, y_test )\n"
   ]
  },
  {
   "cell_type": "code",
   "execution_count": null,
   "metadata": {},
   "outputs": [],
   "source": [
    "#------------------------------------  K-NEAREST NEIGHBBOR ------------------------------------------#\n",
    "model(KNeighborsClassifier(n_neighbors=5), x_dev, x_test, y_dev, y_test)\n"
   ]
  },
  {
   "cell_type": "code",
   "execution_count": null,
   "metadata": {},
   "outputs": [],
   "source": [
    "#-------------------------------------- RANDOM FOREST CLASSIFIER ----------------------------------------#\n",
    "model(RandomForestClassifier(random_state=0, n_estimators=100, min_samples_split=5, max_depth=10)), x_dev, x_test, y_dev, y_test )\n"
   ]
  },
  {
   "cell_type": "code",
   "execution_count": null,
   "metadata": {},
   "outputs": [],
   "source": [
    "#-------------------------------------- ADABOOST ----------------------------------------#\n",
    "# hyperparameter tuning\n",
    "model(AdaBoostClassifier(random_state=0, n_estimators=100, learning_rate=0.001)), x_dev, x_test, y_dev, y_test )\n"
   ]
  },
  {
   "cell_type": "code",
   "execution_count": null,
   "metadata": {},
   "outputs": [],
   "source": [
    "#------------------------------------ FAIRNESS EVALUATION ------------------------------------------#"
   ]
  },
  {
   "cell_type": "code",
   "execution_count": null,
   "metadata": {},
   "outputs": [],
   "source": [
    "#-------------------------------------- PERFORMANCE METRICS ----------------------------------------#"
   ]
  },
  {
   "cell_type": "markdown",
   "metadata": {},
   "source": [
    "## References\n",
    "https://www.kaggle.com/code/durgancegaur/a-guide-to-any-classification-problem\n",
    "https://www.kaggle.com/code/durgancegaur/data-imbalance-eda-87-auc?scriptVersionId=88319036"
   ]
  }
 ],
 "metadata": {
  "language_info": {
   "name": "python"
  }
 },
 "nbformat": 4,
 "nbformat_minor": 2
}
